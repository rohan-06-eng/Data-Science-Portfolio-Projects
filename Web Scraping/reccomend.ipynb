{
 "cells": [
  {
   "cell_type": "code",
   "execution_count": 2,
   "metadata": {},
   "outputs": [
    {
     "name": "stdout",
     "output_type": "stream",
     "text": [
      "Top 5 Recommended Products:\n",
      "                                               Title  Similarity    Price  \\\n",
      "0  Orgain Organic Vegan Protein Powder, Vanilla B...    0.439439    38.26   \n",
      "1  Optimum Nutrition Gold Standard 100% Whey Prot...    0.387038  5499.00   \n",
      "2  Orgain Organic Vegan Protein + 50 Superfoods P...    0.364848    25.49   \n",
      "4  Body Fortress 100% Whey, Premium Protein Powde...    0.314074    22.98   \n",
      "3  Dymatize ISO100 Hydrolyzed Protein Powder, 100...    0.202371    41.99   \n",
      "\n",
      "   Rating  Price_per_Star  \n",
      "0     4.4        8.695455  \n",
      "1     4.6     1195.434783  \n",
      "2     4.6        5.541304  \n",
      "4     4.5        5.106667  \n",
      "3     4.5        9.331111  \n"
     ]
    },
    {
     "name": "stderr",
     "output_type": "stream",
     "text": [
      "<>:13: SyntaxWarning: invalid escape sequence '\\$'\n",
      "<>:13: SyntaxWarning: invalid escape sequence '\\$'\n",
      "C:\\Users\\rajro\\AppData\\Local\\Temp\\ipykernel_20736\\4148134431.py:13: SyntaxWarning: invalid escape sequence '\\$'\n",
      "  df[\"Price\"] = df[\"Price\"].replace('[\\$,]', '', regex=True).astype(float)\n"
     ]
    }
   ],
   "source": [
    "import pandas as pd\n",
    "from sklearn.feature_extraction.text import TfidfVectorizer\n",
    "from sklearn.metrics.pairwise import cosine_similarity\n",
    "\n",
    "# Load data from the Excel file\n",
    "file_name = \"amazon_products.xlsx\"\n",
    "df = pd.read_excel(file_name)\n",
    "\n",
    "# Fill missing values in the Description column\n",
    "df[\"Description\"] = df[\"Description\"].fillna(\"N/A\")\n",
    "\n",
    "# Ensure Price is cleaned and converted to numeric\n",
    "df[\"Price\"] = df[\"Price\"].replace('[\\$,]', '', regex=True).astype(float)\n",
    "\n",
    "# Extract numeric ratings from strings (e.g., \"4.4 out of 5 stars\")\n",
    "df[\"Rating\"] = df[\"Rating\"].str.extract(r'(\\d+\\.\\d+)').astype(float)\n",
    "\n",
    "# Calculate Price per Star\n",
    "df[\"Price_per_Star\"] = df[\"Price\"] / df[\"Rating\"]\n",
    "\n",
    "# Combine 'Title' and 'Description' for meaningful recommendations\n",
    "df[\"Text\"] = df[\"Title\"] + \" \" + df[\"Description\"]\n",
    "\n",
    "# Initialize TF-IDF Vectorizer and transform the 'Text' column\n",
    "vectorizer = TfidfVectorizer(stop_words=\"english\")\n",
    "tfidf_matrix = vectorizer.fit_transform(df[\"Text\"])\n",
    "\n",
    "# Define a user query (e.g., \"best protein powder\")\n",
    "user_query = \"best protein powder\"\n",
    "query_vector = vectorizer.transform([user_query])\n",
    "\n",
    "# Compute cosine similarity between the query and product texts\n",
    "cosine_similarities = cosine_similarity(query_vector, tfidf_matrix).flatten()\n",
    "\n",
    "# Add similarity scores to the dataframe and sort by relevance\n",
    "df[\"Similarity\"] = cosine_similarities\n",
    "recommended_products = df.sort_values(by=\"Similarity\", ascending=False)\n",
    "\n",
    "# Save the recommendations to a new Excel file\n",
    "output_file_name = \"amazon_products_recommendations.xlsx\"\n",
    "recommended_products.to_excel(output_file_name, index=False)\n",
    "\n",
    "# Display the top 5 recommendations\n",
    "print(\"Top 5 Recommended Products:\")\n",
    "print(recommended_products[[\"Title\", \"Similarity\", \"Price\", \"Rating\", \"Price_per_Star\"]].head())"
   ]
  }
 ],
 "metadata": {
  "kernelspec": {
   "display_name": "base",
   "language": "python",
   "name": "python3"
  },
  "language_info": {
   "codemirror_mode": {
    "name": "ipython",
    "version": 3
   },
   "file_extension": ".py",
   "mimetype": "text/x-python",
   "name": "python",
   "nbconvert_exporter": "python",
   "pygments_lexer": "ipython3",
   "version": "3.12.7"
  }
 },
 "nbformat": 4,
 "nbformat_minor": 2
}
